{
  "nbformat": 4,
  "nbformat_minor": 0,
  "metadata": {
    "kernelspec": {
      "display_name": "Python 3",
      "language": "python",
      "name": "python3"
    },
    "language_info": {
      "codemirror_mode": {
        "name": "ipython",
        "version": 3
      },
      "file_extension": ".py",
      "mimetype": "text/x-python",
      "name": "python",
      "nbconvert_exporter": "python",
      "pygments_lexer": "ipython3",
      "version": "3.7.6"
    },
    "colab": {
      "name": "Projet Song Popularity - Part2.ipynb",
      "provenance": []
    }
  },
  "cells": [
    {
      "cell_type": "code",
      "metadata": {
        "id": "cIUTnzeYov6y",
        "colab_type": "code",
        "colab": {}
      },
      "source": [
        "import pandas as pd\n",
        "import numpy as np\n",
        "import matplotlib.pyplot as plt\n",
        "import seaborn as sns"
      ],
      "execution_count": null,
      "outputs": []
    },
    {
      "cell_type": "code",
      "metadata": {
        "id": "S9jOtVg7ov7J",
        "colab_type": "code",
        "colab": {}
      },
      "source": [
        "df = pd.read_csv(\"song_data.csv\")"
      ],
      "execution_count": null,
      "outputs": []
    },
    {
      "cell_type": "markdown",
      "metadata": {
        "id": "UVNIUckMov7d",
        "colab_type": "text"
      },
      "source": [
        "## Data Preprocessing"
      ]
    },
    {
      "cell_type": "code",
      "metadata": {
        "id": "fZOOBeJ_ov7g",
        "colab_type": "code",
        "colab": {}
      },
      "source": [
        "df1 = df.drop([\"song_name\"], axis=1)"
      ],
      "execution_count": null,
      "outputs": []
    },
    {
      "cell_type": "code",
      "metadata": {
        "id": "2lhRfdUcov7s",
        "colab_type": "code",
        "colab": {}
      },
      "source": [
        "X = df1.drop([\"song_popularity\"], axis=1)\n",
        "y = df1[\"song_popularity\"]"
      ],
      "execution_count": null,
      "outputs": []
    },
    {
      "cell_type": "markdown",
      "metadata": {
        "id": "bR7RmgClov72",
        "colab_type": "text"
      },
      "source": [
        "### MinMaxScaler"
      ]
    },
    {
      "cell_type": "markdown",
      "metadata": {
        "id": "Scn-6vhwov72",
        "colab_type": "text"
      },
      "source": [
        "We scale the datas with MinMaxScaler. That way we can keep the distribution of the datas and prevent too many outliers. The datas are put in a range between 0 and 1."
      ]
    },
    {
      "cell_type": "code",
      "metadata": {
        "id": "EzKbEr1-ov73",
        "colab_type": "code",
        "colab": {}
      },
      "source": [
        "from sklearn.preprocessing import MinMaxScaler "
      ],
      "execution_count": null,
      "outputs": []
    },
    {
      "cell_type": "code",
      "metadata": {
        "id": "NpLE9h9kov76",
        "colab_type": "code",
        "colab": {},
        "outputId": "607bf7de-0da4-4da8-aeb8-2e005695eeb2"
      },
      "source": [
        "min_max_scaler = MinMaxScaler()\n",
        "X = min_max_scaler.fit_transform(X)\n",
        "X"
      ],
      "execution_count": null,
      "outputs": [
        {
          "output_type": "execute_result",
          "data": {
            "text/plain": [
              "array([[0.1400585 , 0.00554115, 0.50253293, ..., 0.68942464, 0.8       ,\n",
              "        0.48170732],\n",
              "       [0.11465771, 0.01034035, 0.5491388 , ..., 0.43437136, 0.8       ,\n",
              "        0.37601626],\n",
              "       [0.12293814, 0.0082018 , 0.74670719, ..., 0.51123317, 0.8       ,\n",
              "        0.32926829],\n",
              "       ...,\n",
              "       [0.09523114, 0.85040145, 0.72847011, ..., 0.53868883, 0.8       ,\n",
              "        0.29065041],\n",
              "       [0.19038284, 0.94879513, 0.49442756, ..., 0.4377017 , 0.8       ,\n",
              "        0.32825203],\n",
              "       [0.10156567, 0.91465855, 0.64842958, ..., 0.37756172, 0.8       ,\n",
              "        0.59044715]])"
            ]
          },
          "metadata": {
            "tags": []
          },
          "execution_count": 8
        }
      ]
    },
    {
      "cell_type": "markdown",
      "metadata": {
        "id": "45Xa8Nb7ov8K",
        "colab_type": "text"
      },
      "source": [
        "### Train_test_split"
      ]
    },
    {
      "cell_type": "code",
      "metadata": {
        "id": "W2Fvu9GHov8L",
        "colab_type": "code",
        "colab": {}
      },
      "source": [
        "from sklearn.model_selection import train_test_split"
      ],
      "execution_count": null,
      "outputs": []
    },
    {
      "cell_type": "code",
      "metadata": {
        "id": "L08AMDW-ov8i",
        "colab_type": "code",
        "colab": {}
      },
      "source": [
        "X_train, X_test, y_train, y_test = train_test_split(X,y,test_size=0.2, random_state=45)"
      ],
      "execution_count": null,
      "outputs": []
    },
    {
      "cell_type": "markdown",
      "metadata": {
        "id": "NolaRMq7ov8o",
        "colab_type": "text"
      },
      "source": [
        "## Machine Learning"
      ]
    },
    {
      "cell_type": "markdown",
      "metadata": {
        "id": "IoPQM_l4ov8p",
        "colab_type": "text"
      },
      "source": [
        "### Random Forest"
      ]
    },
    {
      "cell_type": "code",
      "metadata": {
        "id": "13cUY1M3ov8t",
        "colab_type": "code",
        "colab": {}
      },
      "source": [
        "from sklearn.ensemble import RandomForestRegressor\n"
      ],
      "execution_count": null,
      "outputs": []
    },
    {
      "cell_type": "code",
      "metadata": {
        "id": "35M8S6aPov8y",
        "colab_type": "code",
        "colab": {},
        "outputId": "047faf05-ff05-4be1-e23b-db3334e243e8"
      },
      "source": [
        "randomregressor = RandomForestRegressor(random_state=45, max_depth=30, max_features=\"sqrt\")\n",
        "randomregressor.fit(X_train, y_train)"
      ],
      "execution_count": null,
      "outputs": [
        {
          "output_type": "execute_result",
          "data": {
            "text/plain": [
              "RandomForestRegressor(bootstrap=True, ccp_alpha=0.0, criterion='mse',\n",
              "                      max_depth=30, max_features='sqrt', max_leaf_nodes=None,\n",
              "                      max_samples=None, min_impurity_decrease=0.0,\n",
              "                      min_impurity_split=None, min_samples_leaf=1,\n",
              "                      min_samples_split=2, min_weight_fraction_leaf=0.0,\n",
              "                      n_estimators=100, n_jobs=None, oob_score=False,\n",
              "                      random_state=45, verbose=0, warm_start=False)"
            ]
          },
          "metadata": {
            "tags": []
          },
          "execution_count": 12
        }
      ]
    },
    {
      "cell_type": "code",
      "metadata": {
        "id": "Zfq0pLbeov88",
        "colab_type": "code",
        "colab": {},
        "outputId": "00547996-ad87-48cb-9440-51403531c344"
      },
      "source": [
        "score_train = randomregressor.score(X_train,y_train)\n",
        "score_test = randomregressor.score(X_test,y_test)\n",
        "print (\"Score de Train: \", score_train)\n",
        "print(\"Score de Test: \", score_test)"
      ],
      "execution_count": null,
      "outputs": [
        {
          "output_type": "stream",
          "text": [
            "Score de Train:  0.9048962153082213\n",
            "Score de Test:  0.40292395766242056\n"
          ],
          "name": "stdout"
        }
      ]
    },
    {
      "cell_type": "code",
      "metadata": {
        "id": "J8dmW3xBov9A",
        "colab_type": "code",
        "colab": {},
        "outputId": "5c1e22ba-f1b2-4ab1-ccf6-ecdc1c9917d5"
      },
      "source": [
        "randomregressor.feature_importances_"
      ],
      "execution_count": null,
      "outputs": [
        {
          "output_type": "execute_result",
          "data": {
            "text/plain": [
              "array([0.09296227, 0.09661337, 0.09648027, 0.09330077, 0.08624705,\n",
              "       0.04896014, 0.08725967, 0.10465064, 0.01261894, 0.0883523 ,\n",
              "       0.08966502, 0.00722548, 0.09566407])"
            ]
          },
          "metadata": {
            "tags": []
          },
          "execution_count": 14
        }
      ]
    },
    {
      "cell_type": "code",
      "metadata": {
        "id": "TB1VFnPvov9D",
        "colab_type": "code",
        "colab": {},
        "outputId": "00dd9c07-3e39-4559-abab-3c7177104382"
      },
      "source": [
        "feature_importance = pd.DataFrame({\"features\": ['song_duration_ms', \n",
        "                                                'acousticness', \n",
        "                                                'danceability', \n",
        "                                                'energy', \n",
        "                                                'instrumentalness',\n",
        "                                                'key',\n",
        "                                                'liveness',\n",
        "                                                'loudness',\n",
        "                                                'audio_mode',\n",
        "                                                'speechiness',\n",
        "                                                'tempo',\n",
        "                                                'time_signature',\n",
        "                                                'audio_valence',\n",
        "                                        \n",
        "                                                ], \n",
        "                                \"values\":randomregressor.feature_importances_})\n",
        "feature_importance.sort_values([\"values\"])"
      ],
      "execution_count": null,
      "outputs": [
        {
          "output_type": "execute_result",
          "data": {
            "text/html": [
              "<div>\n",
              "<style scoped>\n",
              "    .dataframe tbody tr th:only-of-type {\n",
              "        vertical-align: middle;\n",
              "    }\n",
              "\n",
              "    .dataframe tbody tr th {\n",
              "        vertical-align: top;\n",
              "    }\n",
              "\n",
              "    .dataframe thead th {\n",
              "        text-align: right;\n",
              "    }\n",
              "</style>\n",
              "<table border=\"1\" class=\"dataframe\">\n",
              "  <thead>\n",
              "    <tr style=\"text-align: right;\">\n",
              "      <th></th>\n",
              "      <th>features</th>\n",
              "      <th>values</th>\n",
              "    </tr>\n",
              "  </thead>\n",
              "  <tbody>\n",
              "    <tr>\n",
              "      <th>11</th>\n",
              "      <td>time_signature</td>\n",
              "      <td>0.007225</td>\n",
              "    </tr>\n",
              "    <tr>\n",
              "      <th>8</th>\n",
              "      <td>audio_mode</td>\n",
              "      <td>0.012619</td>\n",
              "    </tr>\n",
              "    <tr>\n",
              "      <th>5</th>\n",
              "      <td>key</td>\n",
              "      <td>0.048960</td>\n",
              "    </tr>\n",
              "    <tr>\n",
              "      <th>4</th>\n",
              "      <td>instrumentalness</td>\n",
              "      <td>0.086247</td>\n",
              "    </tr>\n",
              "    <tr>\n",
              "      <th>6</th>\n",
              "      <td>liveness</td>\n",
              "      <td>0.087260</td>\n",
              "    </tr>\n",
              "    <tr>\n",
              "      <th>9</th>\n",
              "      <td>speechiness</td>\n",
              "      <td>0.088352</td>\n",
              "    </tr>\n",
              "    <tr>\n",
              "      <th>10</th>\n",
              "      <td>tempo</td>\n",
              "      <td>0.089665</td>\n",
              "    </tr>\n",
              "    <tr>\n",
              "      <th>0</th>\n",
              "      <td>song_duration_ms</td>\n",
              "      <td>0.092962</td>\n",
              "    </tr>\n",
              "    <tr>\n",
              "      <th>3</th>\n",
              "      <td>energy</td>\n",
              "      <td>0.093301</td>\n",
              "    </tr>\n",
              "    <tr>\n",
              "      <th>12</th>\n",
              "      <td>audio_valence</td>\n",
              "      <td>0.095664</td>\n",
              "    </tr>\n",
              "    <tr>\n",
              "      <th>2</th>\n",
              "      <td>danceability</td>\n",
              "      <td>0.096480</td>\n",
              "    </tr>\n",
              "    <tr>\n",
              "      <th>1</th>\n",
              "      <td>acousticness</td>\n",
              "      <td>0.096613</td>\n",
              "    </tr>\n",
              "    <tr>\n",
              "      <th>7</th>\n",
              "      <td>loudness</td>\n",
              "      <td>0.104651</td>\n",
              "    </tr>\n",
              "  </tbody>\n",
              "</table>\n",
              "</div>"
            ],
            "text/plain": [
              "            features    values\n",
              "11    time_signature  0.007225\n",
              "8         audio_mode  0.012619\n",
              "5                key  0.048960\n",
              "4   instrumentalness  0.086247\n",
              "6           liveness  0.087260\n",
              "9        speechiness  0.088352\n",
              "10             tempo  0.089665\n",
              "0   song_duration_ms  0.092962\n",
              "3             energy  0.093301\n",
              "12     audio_valence  0.095664\n",
              "2       danceability  0.096480\n",
              "1       acousticness  0.096613\n",
              "7           loudness  0.104651"
            ]
          },
          "metadata": {
            "tags": []
          },
          "execution_count": 15
        }
      ]
    },
    {
      "cell_type": "markdown",
      "metadata": {
        "id": "dZBb3zuAov9F",
        "colab_type": "text"
      },
      "source": [
        "Mean Square Error"
      ]
    },
    {
      "cell_type": "code",
      "metadata": {
        "id": "67Pl5I1mov9G",
        "colab_type": "code",
        "colab": {}
      },
      "source": [
        "from sklearn.metrics import mean_squared_error"
      ],
      "execution_count": null,
      "outputs": []
    },
    {
      "cell_type": "code",
      "metadata": {
        "id": "oTL6E3-Uov9J",
        "colab_type": "code",
        "colab": {}
      },
      "source": [
        "ypREG = randomregressor.predict(X_test)"
      ],
      "execution_count": null,
      "outputs": []
    },
    {
      "cell_type": "code",
      "metadata": {
        "id": "uLNCwLf7ov9L",
        "colab_type": "code",
        "colab": {},
        "outputId": "82f493cd-ddd1-4eee-c046-6ea88edc433f"
      },
      "source": [
        "y_true = y_test\n",
        "y_pred = ypREG\n",
        "mean_squared_error(y_true,y_pred)"
      ],
      "execution_count": null,
      "outputs": [
        {
          "output_type": "execute_result",
          "data": {
            "text/plain": [
              "286.3104679280087"
            ]
          },
          "metadata": {
            "tags": []
          },
          "execution_count": 18
        }
      ]
    },
    {
      "cell_type": "markdown",
      "metadata": {
        "id": "Gh78C7Riov9P",
        "colab_type": "text"
      },
      "source": [
        "We have improved our model changing some hyperparameters. Let's try to improve the model with other parameters."
      ]
    },
    {
      "cell_type": "markdown",
      "metadata": {
        "id": "WkCSGneXov9Q",
        "colab_type": "text"
      },
      "source": [
        "\n",
        "\n",
        "### Hyperparameters Research"
      ]
    },
    {
      "cell_type": "code",
      "metadata": {
        "id": "eKqkNHVXov9S",
        "colab_type": "code",
        "colab": {}
      },
      "source": [
        "from sklearn.model_selection import RandomizedSearchCV"
      ],
      "execution_count": null,
      "outputs": []
    },
    {
      "cell_type": "code",
      "metadata": {
        "id": "Xi-qm6Rfov9U",
        "colab_type": "code",
        "colab": {}
      },
      "source": [
        "hyperparams = {\n",
        "     \"max_depth\": [10, 20, 30, 50, 100, 150, 200],\n",
        "    \"random_state\":[10,20,50,100, 200,500],\n",
        "    \"n_estimators\" :[20,50,100,200,300,500],\n",
        "    \"bootstrap\":[True,False],\n",
        "    \"min_samples_split\":[2,5,10],\n",
        "}"
      ],
      "execution_count": null,
      "outputs": []
    },
    {
      "cell_type": "code",
      "metadata": {
        "id": "xCggqUu4ov9W",
        "colab_type": "code",
        "colab": {}
      },
      "source": [
        "random_search = RandomizedSearchCV(randomregressor, hyperparams)"
      ],
      "execution_count": null,
      "outputs": []
    },
    {
      "cell_type": "code",
      "metadata": {
        "id": "816SJJ-Vov9c",
        "colab_type": "code",
        "colab": {},
        "outputId": "12678ce2-24e5-40ec-8bb6-0baa02266655"
      },
      "source": [
        "random_search.fit(X_train, y_train)"
      ],
      "execution_count": null,
      "outputs": [
        {
          "output_type": "execute_result",
          "data": {
            "text/plain": [
              "RandomizedSearchCV(cv=None, error_score=nan,\n",
              "                   estimator=RandomForestRegressor(bootstrap=True,\n",
              "                                                   ccp_alpha=0.0,\n",
              "                                                   criterion='mse',\n",
              "                                                   max_depth=30,\n",
              "                                                   max_features='sqrt',\n",
              "                                                   max_leaf_nodes=None,\n",
              "                                                   max_samples=None,\n",
              "                                                   min_impurity_decrease=0.0,\n",
              "                                                   min_impurity_split=None,\n",
              "                                                   min_samples_leaf=1,\n",
              "                                                   min_samples_split=2,\n",
              "                                                   min_weight_fraction_leaf=0.0,\n",
              "                                                   n_estimators=100,\n",
              "                                                   n_jobs=None, oob_score=False,\n",
              "                                                   random_state=45, verbose=0,\n",
              "                                                   warm_start=False),\n",
              "                   iid='deprecated', n_iter=10, n_jobs=None,\n",
              "                   param_distributions={'bootstrap': [True, False],\n",
              "                                        'max_depth': [10, 20, 30, 50, 100, 150,\n",
              "                                                      200],\n",
              "                                        'min_samples_split': [2, 5, 10],\n",
              "                                        'n_estimators': [20, 50, 100, 200, 300,\n",
              "                                                         500],\n",
              "                                        'random_state': [10, 20, 50, 100, 200,\n",
              "                                                         500]},\n",
              "                   pre_dispatch='2*n_jobs', random_state=None, refit=True,\n",
              "                   return_train_score=False, scoring=None, verbose=0)"
            ]
          },
          "metadata": {
            "tags": []
          },
          "execution_count": 22
        }
      ]
    },
    {
      "cell_type": "code",
      "metadata": {
        "id": "nudqQw3_ov9g",
        "colab_type": "code",
        "colab": {},
        "outputId": "201e6597-f67f-4ba3-8941-338adfa19119"
      },
      "source": [
        "random_search.best_params_"
      ],
      "execution_count": null,
      "outputs": [
        {
          "output_type": "execute_result",
          "data": {
            "text/plain": [
              "{'random_state': 500,\n",
              " 'n_estimators': 200,\n",
              " 'min_samples_split': 2,\n",
              " 'max_depth': 200,\n",
              " 'bootstrap': False}"
            ]
          },
          "metadata": {
            "tags": []
          },
          "execution_count": 23
        }
      ]
    },
    {
      "cell_type": "code",
      "metadata": {
        "id": "wABT52tHov9r",
        "colab_type": "code",
        "colab": {},
        "outputId": "774528fa-e8a0-4deb-c63e-337ce32aea21"
      },
      "source": [
        "random_search.best_score_"
      ],
      "execution_count": null,
      "outputs": [
        {
          "output_type": "execute_result",
          "data": {
            "text/plain": [
              "0.3761742961599632"
            ]
          },
          "metadata": {
            "tags": []
          },
          "execution_count": 24
        }
      ]
    },
    {
      "cell_type": "code",
      "metadata": {
        "id": "mW4AM47Sov9w",
        "colab_type": "code",
        "colab": {}
      },
      "source": [
        "Randomregressor2 = RandomForestRegressor(max_depth= 200, random_state= 500,n_estimators=200,min_samples_split=2, bootstrap=False, max_features=\"sqrt\")"
      ],
      "execution_count": null,
      "outputs": []
    },
    {
      "cell_type": "code",
      "metadata": {
        "id": "UKMaMyvFov9y",
        "colab_type": "code",
        "colab": {},
        "outputId": "a109a5f8-f8ab-4d75-aed2-959f9fdf82b7"
      },
      "source": [
        "Randomregressor2.fit(X_train, y_train)"
      ],
      "execution_count": null,
      "outputs": [
        {
          "output_type": "execute_result",
          "data": {
            "text/plain": [
              "RandomForestRegressor(bootstrap=False, ccp_alpha=0.0, criterion='mse',\n",
              "                      max_depth=200, max_features='sqrt', max_leaf_nodes=None,\n",
              "                      max_samples=None, min_impurity_decrease=0.0,\n",
              "                      min_impurity_split=None, min_samples_leaf=1,\n",
              "                      min_samples_split=2, min_weight_fraction_leaf=0.0,\n",
              "                      n_estimators=200, n_jobs=None, oob_score=False,\n",
              "                      random_state=500, verbose=0, warm_start=False)"
            ]
          },
          "metadata": {
            "tags": []
          },
          "execution_count": 34
        }
      ]
    },
    {
      "cell_type": "code",
      "metadata": {
        "id": "QFxaK94oov91",
        "colab_type": "code",
        "colab": {},
        "outputId": "4825ba92-b7f4-41c9-fb0e-03e9f23c1240"
      },
      "source": [
        "Randomregressor2.score(X_train, y_train)"
      ],
      "execution_count": null,
      "outputs": [
        {
          "output_type": "execute_result",
          "data": {
            "text/plain": [
              "0.9869007116361476"
            ]
          },
          "metadata": {
            "tags": []
          },
          "execution_count": 35
        }
      ]
    },
    {
      "cell_type": "code",
      "metadata": {
        "id": "Od8C2R9lov93",
        "colab_type": "code",
        "colab": {},
        "outputId": "2c7d7d61-278d-4d23-e190-9810d9a3806d"
      },
      "source": [
        "Randomregressor2.score(X_test, y_test)"
      ],
      "execution_count": null,
      "outputs": [
        {
          "output_type": "execute_result",
          "data": {
            "text/plain": [
              "0.4257389562898637"
            ]
          },
          "metadata": {
            "tags": []
          },
          "execution_count": 36
        }
      ]
    },
    {
      "cell_type": "code",
      "metadata": {
        "id": "1vjWSduPov95",
        "colab_type": "code",
        "colab": {},
        "outputId": "e6b5fea0-89bd-4816-8e22-f44ae6df92d8"
      },
      "source": [
        "Randomregressor2.feature_importances_"
      ],
      "execution_count": null,
      "outputs": [
        {
          "output_type": "execute_result",
          "data": {
            "text/plain": [
              "array([0.09334335, 0.09625774, 0.09709585, 0.09328384, 0.08756133,\n",
              "       0.04791418, 0.08734133, 0.10503712, 0.01262452, 0.08777948,\n",
              "       0.08938391, 0.0068299 , 0.09554746])"
            ]
          },
          "metadata": {
            "tags": []
          },
          "execution_count": 37
        }
      ]
    },
    {
      "cell_type": "code",
      "metadata": {
        "id": "4KRJDM6Hov99",
        "colab_type": "code",
        "colab": {},
        "outputId": "59075c84-2e80-46ea-8d59-40f481b532b3"
      },
      "source": [
        "feature_importance = pd.DataFrame({\"features\": ['song_duration_ms', \n",
        "                                                'acousticness', \n",
        "                                                'danceability', \n",
        "                                                'energy', \n",
        "                                                'instrumentalness',\n",
        "                                                'key',\n",
        "                                                'liveness',\n",
        "                                                'loudness',\n",
        "                                                'audio_mode',\n",
        "                                                'speechiness',\n",
        "                                                'tempo',\n",
        "                                                'time_signature',\n",
        "                                                'audio_valence',\n",
        "                                        \n",
        "                                                ], \n",
        "                                \"values\":Randomregressor2.feature_importances_})\n",
        "feature_importance.sort_values([\"values\"])"
      ],
      "execution_count": null,
      "outputs": [
        {
          "output_type": "execute_result",
          "data": {
            "text/html": [
              "<div>\n",
              "<style scoped>\n",
              "    .dataframe tbody tr th:only-of-type {\n",
              "        vertical-align: middle;\n",
              "    }\n",
              "\n",
              "    .dataframe tbody tr th {\n",
              "        vertical-align: top;\n",
              "    }\n",
              "\n",
              "    .dataframe thead th {\n",
              "        text-align: right;\n",
              "    }\n",
              "</style>\n",
              "<table border=\"1\" class=\"dataframe\">\n",
              "  <thead>\n",
              "    <tr style=\"text-align: right;\">\n",
              "      <th></th>\n",
              "      <th>features</th>\n",
              "      <th>values</th>\n",
              "    </tr>\n",
              "  </thead>\n",
              "  <tbody>\n",
              "    <tr>\n",
              "      <th>11</th>\n",
              "      <td>time_signature</td>\n",
              "      <td>0.006830</td>\n",
              "    </tr>\n",
              "    <tr>\n",
              "      <th>8</th>\n",
              "      <td>audio_mode</td>\n",
              "      <td>0.012625</td>\n",
              "    </tr>\n",
              "    <tr>\n",
              "      <th>5</th>\n",
              "      <td>key</td>\n",
              "      <td>0.047914</td>\n",
              "    </tr>\n",
              "    <tr>\n",
              "      <th>6</th>\n",
              "      <td>liveness</td>\n",
              "      <td>0.087341</td>\n",
              "    </tr>\n",
              "    <tr>\n",
              "      <th>4</th>\n",
              "      <td>instrumentalness</td>\n",
              "      <td>0.087561</td>\n",
              "    </tr>\n",
              "    <tr>\n",
              "      <th>9</th>\n",
              "      <td>speechiness</td>\n",
              "      <td>0.087779</td>\n",
              "    </tr>\n",
              "    <tr>\n",
              "      <th>10</th>\n",
              "      <td>tempo</td>\n",
              "      <td>0.089384</td>\n",
              "    </tr>\n",
              "    <tr>\n",
              "      <th>3</th>\n",
              "      <td>energy</td>\n",
              "      <td>0.093284</td>\n",
              "    </tr>\n",
              "    <tr>\n",
              "      <th>0</th>\n",
              "      <td>song_duration_ms</td>\n",
              "      <td>0.093343</td>\n",
              "    </tr>\n",
              "    <tr>\n",
              "      <th>12</th>\n",
              "      <td>audio_valence</td>\n",
              "      <td>0.095547</td>\n",
              "    </tr>\n",
              "    <tr>\n",
              "      <th>1</th>\n",
              "      <td>acousticness</td>\n",
              "      <td>0.096258</td>\n",
              "    </tr>\n",
              "    <tr>\n",
              "      <th>2</th>\n",
              "      <td>danceability</td>\n",
              "      <td>0.097096</td>\n",
              "    </tr>\n",
              "    <tr>\n",
              "      <th>7</th>\n",
              "      <td>loudness</td>\n",
              "      <td>0.105037</td>\n",
              "    </tr>\n",
              "  </tbody>\n",
              "</table>\n",
              "</div>"
            ],
            "text/plain": [
              "            features    values\n",
              "11    time_signature  0.006830\n",
              "8         audio_mode  0.012625\n",
              "5                key  0.047914\n",
              "6           liveness  0.087341\n",
              "4   instrumentalness  0.087561\n",
              "9        speechiness  0.087779\n",
              "10             tempo  0.089384\n",
              "3             energy  0.093284\n",
              "0   song_duration_ms  0.093343\n",
              "12     audio_valence  0.095547\n",
              "1       acousticness  0.096258\n",
              "2       danceability  0.097096\n",
              "7           loudness  0.105037"
            ]
          },
          "metadata": {
            "tags": []
          },
          "execution_count": 38
        }
      ]
    },
    {
      "cell_type": "code",
      "metadata": {
        "id": "WPq-i8qSov9_",
        "colab_type": "code",
        "colab": {}
      },
      "source": [
        "ypREG2 = Randomregressor2.predict(X_test)"
      ],
      "execution_count": null,
      "outputs": []
    },
    {
      "cell_type": "code",
      "metadata": {
        "id": "vZ9OAkvfov-B",
        "colab_type": "code",
        "colab": {},
        "outputId": "f27f2a95-7ed5-48ec-8310-0079990389b3"
      },
      "source": [
        "y_true = y_test\n",
        "y_pred = ypREG2\n",
        "mean_squared_error(y_true,y_pred)"
      ],
      "execution_count": null,
      "outputs": [
        {
          "output_type": "execute_result",
          "data": {
            "text/plain": [
              "275.37019823099257"
            ]
          },
          "metadata": {
            "tags": []
          },
          "execution_count": 40
        }
      ]
    },
    {
      "cell_type": "markdown",
      "metadata": {
        "id": "kQHKumhvov-D",
        "colab_type": "text"
      },
      "source": [
        "The performance of the model has improved.\n",
        "However, in order to get a better model, we should consider a different dataset, with more linear variables as well as other features to segment the analyze: genre, country..."
      ]
    },
    {
      "cell_type": "code",
      "metadata": {
        "id": "ANJkjPUtov-E",
        "colab_type": "code",
        "colab": {}
      },
      "source": [
        ""
      ],
      "execution_count": null,
      "outputs": []
    }
  ]
}